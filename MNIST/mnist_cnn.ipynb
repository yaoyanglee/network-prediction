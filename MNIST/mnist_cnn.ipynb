{
 "cells": [
  {
   "cell_type": "code",
   "execution_count": 27,
   "metadata": {},
   "outputs": [],
   "source": [
    "import torch\n",
    "from torchvision import datasets\n",
    "from torchvision.transforms import ToTensor\n",
    "import matplotlib.pyplot as plt\n",
    "from torch.utils.data import DataLoader\n",
    "import torch.nn as nn\n",
    "from torch import optim\n",
    "from torch.autograd import Variable"
   ]
  },
  {
   "cell_type": "code",
   "execution_count": 28,
   "metadata": {},
   "outputs": [
    {
     "data": {
      "text/plain": [
       "device(type='cuda')"
      ]
     },
     "execution_count": 28,
     "metadata": {},
     "output_type": "execute_result"
    }
   ],
   "source": [
    "# Device configuration\n",
    "device = torch.device('cuda' if torch.cuda.is_available() else 'cpu')\n",
    "device"
   ]
  },
  {
   "cell_type": "code",
   "execution_count": 29,
   "metadata": {},
   "outputs": [
    {
     "name": "stdout",
     "output_type": "stream",
     "text": [
      "Dataset MNIST\n",
      "    Number of datapoints: 60000\n",
      "    Root location: data\n",
      "    Split: Train\n",
      "    StandardTransform\n",
      "Transform: ToTensor()\n",
      "Dataset MNIST\n",
      "    Number of datapoints: 10000\n",
      "    Root location: data\n",
      "    Split: Test\n",
      "    StandardTransform\n",
      "Transform: ToTensor()\n",
      "torch.Size([60000, 28, 28])\n"
     ]
    }
   ],
   "source": [
    "train_data = datasets.MNIST(\n",
    "    root = 'data',\n",
    "    train = True,                         \n",
    "    transform = ToTensor(), \n",
    "    download = True,            \n",
    ")\n",
    "\n",
    "test_data = datasets.MNIST(\n",
    "    root = 'data', \n",
    "    train = False, \n",
    "    transform = ToTensor()\n",
    ")\n",
    "\n",
    "print(train_data)\n",
    "print(test_data)\n",
    "print(train_data.data.size())"
   ]
  },
  {
   "cell_type": "code",
   "execution_count": 30,
   "metadata": {},
   "outputs": [
    {
     "data": {
      "image/png": "[encoded data removed]",
      "text/plain": [
       "<Figure size 640x480 with 1 Axes>"
      ]
     },
     "metadata": {},
     "output_type": "display_data"
    }
   ],
   "source": [
    "plt.imshow(train_data.data[0], cmap='gray')\n",
    "plt.title('%i' % train_data.targets[0])\n",
    "plt.show()"
   ]
  },
  {
   "cell_type": "code",
   "execution_count": 31,
   "metadata": {},
   "outputs": [
    {
     "data": {
      "text/plain": [
       "{'train': <torch.utils.data.dataloader.DataLoader at 0x283e0454400>,\n",
       " 'test': <torch.utils.data.dataloader.DataLoader at 0x283e0457430>}"
      ]
     },
     "execution_count": 31,
     "metadata": {},
     "output_type": "execute_result"
    }
   ],
   "source": [
    "loaders = {\n",
    "    'train': torch.utils.data.DataLoader(train_data,\n",
    "                                         batch_size=100,\n",
    "                                         shuffle=True,\n",
    "                                         num_workers=1),\n",
    "\n",
    "    'test': torch.utils.data.DataLoader(test_data,\n",
    "                                        batch_size=100,\n",
    "                                        shuffle=True,\n",
    "                                        num_workers=1),\n",
    "}\n",
    "\n",
    "loaders"
   ]
  },
  {
   "cell_type": "code",
   "execution_count": 32,
   "metadata": {},
   "outputs": [],
   "source": [
    "class CNN(nn.Module):\n",
    "    def __init__(self):\n",
    "        super(CNN, self).__init__()        \n",
    "        self.conv1 = nn.Sequential(         \n",
    "            nn.Conv2d(\n",
    "                in_channels=1,              \n",
    "                out_channels=16,            \n",
    "                kernel_size=5,              \n",
    "                stride=1,                   \n",
    "                padding=2,                  \n",
    "            ),                              \n",
    "            nn.ReLU(),                      \n",
    "            nn.MaxPool2d(kernel_size=2),    \n",
    "        )\n",
    "\n",
    "        self.conv2 = nn.Sequential(         \n",
    "            nn.Conv2d(16, 32, 5, 1, 2),     \n",
    "            nn.ReLU(),                      \n",
    "            nn.MaxPool2d(2),                \n",
    "        )        \n",
    "\n",
    "        # fully connected layer, output 10 classes\n",
    "        self.out = nn.Linear(32 * 7 * 7, 10)    \n",
    "\n",
    "    def forward(self, x):\n",
    "        x = self.conv1(x)\n",
    "        x = self.conv2(x)        \n",
    "        \n",
    "        # flatten the output of conv2 to (batch_size, 32 * 7 * 7)\n",
    "        x = x.view(x.size(0), -1)       \n",
    "        output = self.out(x)\n",
    "        return output, x    # return x for visualization"
   ]
  },
  {
   "cell_type": "code",
   "execution_count": 33,
   "metadata": {},
   "outputs": [
    {
     "name": "stdout",
     "output_type": "stream",
     "text": [
      "CNN(\n",
      "  (conv1): Sequential(\n",
      "    (0): Conv2d(1, 16, kernel_size=(5, 5), stride=(1, 1), padding=(2, 2))\n",
      "    (1): ReLU()\n",
      "    (2): MaxPool2d(kernel_size=2, stride=2, padding=0, dilation=1, ceil_mode=False)\n",
      "  )\n",
      "  (conv2): Sequential(\n",
      "    (0): Conv2d(16, 32, kernel_size=(5, 5), stride=(1, 1), padding=(2, 2))\n",
      "    (1): ReLU()\n",
      "    (2): MaxPool2d(kernel_size=2, stride=2, padding=0, dilation=1, ceil_mode=False)\n",
      "  )\n",
      "  (out): Linear(in_features=1568, out_features=10, bias=True)\n",
      ")\n",
      "CrossEntropyLoss()\n",
      "Adam (\n",
      "Parameter Group 0\n",
      "    amsgrad: False\n",
      "    betas: (0.9, 0.999)\n",
      "    capturable: False\n",
      "    differentiable: False\n",
      "    eps: 1e-08\n",
      "    foreach: None\n",
      "    fused: None\n",
      "    lr: 0.01\n",
      "    maximize: False\n",
      "    weight_decay: 0\n",
      ")\n"
     ]
    }
   ],
   "source": [
    "cnn = CNN()\n",
    "print(cnn)\n",
    "loss_func = nn.CrossEntropyLoss()\n",
    "print(loss_func)\n",
    "optimizer = optim.Adam(cnn.parameters(), lr=0.01)\n",
    "print(optimizer)"
   ]
  },
  {
   "cell_type": "code",
   "execution_count": 34,
   "metadata": {},
   "outputs": [
    {
     "name": "stdout",
     "output_type": "stream",
     "text": [
      "Epoch [1/10], Step [100/600], Loss: 0.1699\n",
      "Epoch [1/10], Step [200/600], Loss: 0.2566\n",
      "Epoch [1/10], Step [300/600], Loss: 0.1454\n",
      "Epoch [1/10], Step [400/600], Loss: 0.0987\n",
      "Epoch [1/10], Step [500/600], Loss: 0.1084\n",
      "Epoch [1/10], Step [600/600], Loss: 0.1623\n",
      "Epoch [2/10], Step [100/600], Loss: 0.1923\n",
      "Epoch [2/10], Step [200/600], Loss: 0.0663\n",
      "Epoch [2/10], Step [300/600], Loss: 0.0674\n",
      "Epoch [2/10], Step [400/600], Loss: 0.0439\n",
      "Epoch [2/10], Step [500/600], Loss: 0.0870\n",
      "Epoch [2/10], Step [600/600], Loss: 0.0278\n",
      "Epoch [3/10], Step [100/600], Loss: 0.0301\n",
      "Epoch [3/10], Step [200/600], Loss: 0.0100\n",
      "Epoch [3/10], Step [300/600], Loss: 0.0701\n",
      "Epoch [3/10], Step [400/600], Loss: 0.0771\n",
      "Epoch [3/10], Step [500/600], Loss: 0.0484\n",
      "Epoch [3/10], Step [600/600], Loss: 0.0415\n",
      "Epoch [4/10], Step [100/600], Loss: 0.0472\n",
      "Epoch [4/10], Step [200/600], Loss: 0.1659\n",
      "Epoch [4/10], Step [300/600], Loss: 0.0785\n",
      "Epoch [4/10], Step [400/600], Loss: 0.0377\n",
      "Epoch [4/10], Step [500/600], Loss: 0.0835\n",
      "Epoch [4/10], Step [600/600], Loss: 0.1367\n",
      "Epoch [5/10], Step [100/600], Loss: 0.1395\n",
      "Epoch [5/10], Step [200/600], Loss: 0.0555\n",
      "Epoch [5/10], Step [300/600], Loss: 0.0227\n",
      "Epoch [5/10], Step [400/600], Loss: 0.1301\n",
      "Epoch [5/10], Step [500/600], Loss: 0.0378\n",
      "Epoch [5/10], Step [600/600], Loss: 0.1568\n",
      "Epoch [6/10], Step [100/600], Loss: 0.0968\n",
      "Epoch [6/10], Step [200/600], Loss: 0.0222\n",
      "Epoch [6/10], Step [300/600], Loss: 0.0436\n",
      "Epoch [6/10], Step [400/600], Loss: 0.1593\n",
      "Epoch [6/10], Step [500/600], Loss: 0.0909\n",
      "Epoch [6/10], Step [600/600], Loss: 0.0998\n",
      "Epoch [7/10], Step [100/600], Loss: 0.0225\n",
      "Epoch [7/10], Step [200/600], Loss: 0.0917\n",
      "Epoch [7/10], Step [300/600], Loss: 0.1008\n",
      "Epoch [7/10], Step [400/600], Loss: 0.0145\n",
      "Epoch [7/10], Step [500/600], Loss: 0.0095\n",
      "Epoch [7/10], Step [600/600], Loss: 0.0335\n",
      "Epoch [8/10], Step [100/600], Loss: 0.0699\n",
      "Epoch [8/10], Step [200/600], Loss: 0.0816\n",
      "Epoch [8/10], Step [300/600], Loss: 0.0495\n",
      "Epoch [8/10], Step [400/600], Loss: 0.0479\n",
      "Epoch [8/10], Step [500/600], Loss: 0.0216\n",
      "Epoch [8/10], Step [600/600], Loss: 0.0925\n",
      "Epoch [9/10], Step [100/600], Loss: 0.1830\n",
      "Epoch [9/10], Step [200/600], Loss: 0.1647\n",
      "Epoch [9/10], Step [300/600], Loss: 0.0403\n",
      "Epoch [9/10], Step [400/600], Loss: 0.0295\n",
      "Epoch [9/10], Step [500/600], Loss: 0.1635\n",
      "Epoch [9/10], Step [600/600], Loss: 0.0310\n",
      "Epoch [10/10], Step [100/600], Loss: 0.0499\n",
      "Epoch [10/10], Step [200/600], Loss: 0.0017\n",
      "Epoch [10/10], Step [300/600], Loss: 0.0950\n",
      "Epoch [10/10], Step [400/600], Loss: 0.0491\n",
      "Epoch [10/10], Step [500/600], Loss: 0.0150\n",
      "Epoch [10/10], Step [600/600], Loss: 0.0720\n"
     ]
    }
   ],
   "source": [
    "num_epochs = 10\n",
    "\n",
    "def train(num_epochs, cnn, loaders):\n",
    "    cnn.train()\n",
    "        \n",
    "    # Train the model\n",
    "    total_step = len(loaders['train'])\n",
    "        \n",
    "    for epoch in range(num_epochs):\n",
    "        for i, (images, labels) in enumerate(loaders['train']):\n",
    "            \n",
    "            # gives batch data, normalize x when iterate train_loader\n",
    "            b_x = Variable(images)   # batch x\n",
    "            b_y = Variable(labels)   # batch y\n",
    "            output = cnn(b_x)[0]               \n",
    "            loss = loss_func(output, b_y)\n",
    "            \n",
    "            # clear gradients for this training step   \n",
    "            optimizer.zero_grad()           \n",
    "            \n",
    "            # backpropagation, compute gradients \n",
    "            loss.backward()                # apply gradients             \n",
    "            optimizer.step()                \n",
    "            \n",
    "            if (i+1) % 100 == 0:\n",
    "                print ('Epoch [{}/{}], Step [{}/{}], Loss: {:.4f}' \n",
    "                       .format(epoch + 1, num_epochs, i + 1, total_step, loss.item()))               \n",
    "                pass\n",
    "        pass\n",
    "    pass\n",
    "train(num_epochs, cnn, loaders)"
   ]
  },
  {
   "cell_type": "code",
   "execution_count": 35,
   "metadata": {},
   "outputs": [
    {
     "name": "stdout",
     "output_type": "stream",
     "text": [
      "Test Accuracy of the model on the 10000 test images: 0.99\n"
     ]
    }
   ],
   "source": [
    "def test():\n",
    "    # Test the model\n",
    "    cnn.eval()    \n",
    "    \n",
    "    with torch.no_grad():\n",
    "        correct = 0\n",
    "        total = 0\n",
    "        for images, labels in loaders['test']:\n",
    "            test_output, last_layer = cnn(images)\n",
    "            pred_y = torch.max(test_output, 1)[1].data.squeeze()\n",
    "            accuracy = (pred_y == labels).sum().item() / float(labels.size(0))\n",
    "            pass\n",
    "        \n",
    "        print('Test Accuracy of the model on the 10000 test images: %.2f' % accuracy)\n",
    "    pass\n",
    "\n",
    "test()"
   ]
  }
 ],
 "metadata": {
  "kernelspec": {
   "display_name": "mnistcnn",
   "language": "python",
   "name": "mnistcnn"
  },
  "language_info": {
   "codemirror_mode": {
    "name": "ipython",
    "version": 3
   },
   "file_extension": ".py",
   "mimetype": "text/x-python",
   "name": "python",
   "nbconvert_exporter": "python",
   "pygments_lexer": "ipython3",
   "version": "3.10.10"
  }
 },
 "nbformat": 4,
 "nbformat_minor": 2
}
